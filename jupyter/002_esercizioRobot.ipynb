{
 "cells": [
  {
   "cell_type": "markdown",
   "id": "b038938d",
   "metadata": {},
   "source": [
    "## esercizio 13 pagina 73\n",
    "crea una classe in python che astragga i robot. Essa deve avere tra gli attributi il nome del robot, la massa del robot, la sua tipologia (umanoide/no umanoide). Inoltre deve avere un metodo che stampi il nome del robot e un metodo che ritorni se il robot può essere pericoloso. Sono giudicati pericolosi i robot umanoidi di massa superiore a 100Kg."
   ]
  },
  {
   "cell_type": "code",
   "execution_count": 5,
   "id": "3bfb52d4",
   "metadata": {},
   "outputs": [],
   "source": [
    "class Robot():\n",
    "    def __init__(self, nome, massa, tipologia):\n",
    "        self.nome = nome\n",
    "        self.massa = massa\n",
    "        self.tipologia = tipologia\n",
    "    \n",
    "    def stampaNome(self):\n",
    "        print(self.nome)\n",
    "        \n",
    "    def pericoloso(self):\n",
    "        if self.tipologia == \"umanoide\" and self.massa > 100:\n",
    "            print(\"Il  robot è pericoloso.\")\n",
    "        else:\n",
    "            print(\"Il robot non è pericoloso\")"
   ]
  },
  {
   "cell_type": "code",
   "execution_count": 6,
   "id": "61e4d57c",
   "metadata": {},
   "outputs": [],
   "source": [
    "robot = {\"nome\": \"nao\", \"massa\":123, \"tipologia\": \"umanoide\"}"
   ]
  },
  {
   "cell_type": "code",
   "execution_count": 7,
   "id": "cebda73a",
   "metadata": {},
   "outputs": [],
   "source": [
    "robot1 = Robot(robot[\"nome\"], robot[\"massa\"], robot[\"tipologia\"])"
   ]
  },
  {
   "cell_type": "code",
   "execution_count": 8,
   "id": "3524fc00",
   "metadata": {},
   "outputs": [
    {
     "name": "stdout",
     "output_type": "stream",
     "text": [
      "nao\n"
     ]
    }
   ],
   "source": [
    "robot1.stampaNome()"
   ]
  },
  {
   "cell_type": "code",
   "execution_count": 9,
   "id": "45c6f30c",
   "metadata": {},
   "outputs": [
    {
     "name": "stdout",
     "output_type": "stream",
     "text": [
      "Il  robot è pericoloso.\n"
     ]
    }
   ],
   "source": [
    "robot1.pericoloso()"
   ]
  },
  {
   "cell_type": "code",
   "execution_count": 10,
   "id": "f43b047a",
   "metadata": {},
   "outputs": [],
   "source": [
    "robot2 = Robot(\"rob\", 456, \"non umanoide\")"
   ]
  },
  {
   "cell_type": "code",
   "execution_count": 11,
   "id": "d9774b30",
   "metadata": {},
   "outputs": [
    {
     "name": "stdout",
     "output_type": "stream",
     "text": [
      "Il robot non è pericoloso\n"
     ]
    }
   ],
   "source": [
    "robot2.pericoloso()"
   ]
  },
  {
   "cell_type": "code",
   "execution_count": 12,
   "id": "d4a0df76",
   "metadata": {},
   "outputs": [
    {
     "name": "stdout",
     "output_type": "stream",
     "text": [
      "inserisci il nome: qwerrt\n"
     ]
    }
   ],
   "source": [
    "nome = input(\"inserisci il nome: \")"
   ]
  },
  {
   "cell_type": "code",
   "execution_count": 13,
   "id": "450b4a79",
   "metadata": {},
   "outputs": [
    {
     "name": "stdout",
     "output_type": "stream",
     "text": [
      "inserisci il peso: 12\n"
     ]
    }
   ],
   "source": [
    "peso = int(input(\"inserisci il peso: \"))"
   ]
  },
  {
   "cell_type": "code",
   "execution_count": 14,
   "id": "e1cc9b03",
   "metadata": {},
   "outputs": [
    {
     "name": "stdout",
     "output_type": "stream",
     "text": [
      "inserisci la tipologia: umanoide\n"
     ]
    }
   ],
   "source": [
    "tipologia = input(\"inserisci la tipologia: \")"
   ]
  },
  {
   "cell_type": "code",
   "execution_count": 15,
   "id": "10dc512a",
   "metadata": {},
   "outputs": [],
   "source": [
    "robot3 = Robot(nome, peso, tipologia)"
   ]
  },
  {
   "cell_type": "code",
   "execution_count": 16,
   "id": "9b46e2c0",
   "metadata": {},
   "outputs": [
    {
     "name": "stdout",
     "output_type": "stream",
     "text": [
      "Il robot non è pericoloso\n"
     ]
    }
   ],
   "source": [
    "robot3.pericoloso()"
   ]
  },
  {
   "cell_type": "code",
   "execution_count": null,
   "id": "e356fc38",
   "metadata": {},
   "outputs": [],
   "source": []
  }
 ],
 "metadata": {
  "kernelspec": {
   "display_name": "Python 3 (ipykernel)",
   "language": "python",
   "name": "python3"
  },
  "language_info": {
   "codemirror_mode": {
    "name": "ipython",
    "version": 3
   },
   "file_extension": ".py",
   "mimetype": "text/x-python",
   "name": "python",
   "nbconvert_exporter": "python",
   "pygments_lexer": "ipython3",
   "version": "3.9.12"
  }
 },
 "nbformat": 4,
 "nbformat_minor": 5
}
