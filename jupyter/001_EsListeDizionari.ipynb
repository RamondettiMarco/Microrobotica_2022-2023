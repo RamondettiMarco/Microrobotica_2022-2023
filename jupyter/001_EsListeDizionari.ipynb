{
 "cells": [
  {
   "cell_type": "code",
   "execution_count": 1,
   "id": "bbc687ae",
   "metadata": {},
   "outputs": [],
   "source": [
    "n = 100"
   ]
  },
  {
   "cell_type": "code",
   "execution_count": 2,
   "id": "50e3d188",
   "metadata": {},
   "outputs": [],
   "source": [
    "l = [2**i for i in range(0,n) if 2**i <= n]"
   ]
  },
  {
   "cell_type": "code",
   "execution_count": 3,
   "id": "eb95dacf",
   "metadata": {},
   "outputs": [
    {
     "data": {
      "text/plain": [
       "[1, 2, 4, 8, 16, 32, 64]"
      ]
     },
     "execution_count": 3,
     "metadata": {},
     "output_type": "execute_result"
    }
   ],
   "source": [
    "l"
   ]
  },
  {
   "cell_type": "markdown",
   "id": "f9625293",
   "metadata": {},
   "source": [
    "PAGINA 73 NUMERO 18 Crea lista con tutti i quadrati perfetti minori di 200 dispari"
   ]
  },
  {
   "cell_type": "code",
   "execution_count": 4,
   "id": "3427fb9e",
   "metadata": {},
   "outputs": [],
   "source": [
    "x = 200"
   ]
  },
  {
   "cell_type": "code",
   "execution_count": 5,
   "id": "da90df6b",
   "metadata": {},
   "outputs": [],
   "source": [
    "q = [i*i for i in range(0, n) if i % 2 != 0 and i*i < x]"
   ]
  },
  {
   "cell_type": "code",
   "execution_count": 6,
   "id": "6c0b9816",
   "metadata": {},
   "outputs": [
    {
     "data": {
      "text/plain": [
       "[1, 9, 25, 49, 81, 121, 169]"
      ]
     },
     "execution_count": 6,
     "metadata": {},
     "output_type": "execute_result"
    }
   ],
   "source": [
    "q"
   ]
  },
  {
   "cell_type": "markdown",
   "id": "24e9c10e",
   "metadata": {},
   "source": [
    "PAGINA 73 NUMERO 20 Creare le tabelle pitagoriche con le list comprehension matrice da 1 a 9"
   ]
  },
  {
   "cell_type": "code",
   "execution_count": 7,
   "id": "5eba1716",
   "metadata": {},
   "outputs": [],
   "source": [
    "lista = [[i*j for i in range(1, 11)] for j in range(1,10)]"
   ]
  },
  {
   "cell_type": "code",
   "execution_count": 8,
   "id": "c233a589",
   "metadata": {},
   "outputs": [
    {
     "data": {
      "text/plain": [
       "[[1, 2, 3, 4, 5, 6, 7, 8, 9, 10],\n",
       " [2, 4, 6, 8, 10, 12, 14, 16, 18, 20],\n",
       " [3, 6, 9, 12, 15, 18, 21, 24, 27, 30],\n",
       " [4, 8, 12, 16, 20, 24, 28, 32, 36, 40],\n",
       " [5, 10, 15, 20, 25, 30, 35, 40, 45, 50],\n",
       " [6, 12, 18, 24, 30, 36, 42, 48, 54, 60],\n",
       " [7, 14, 21, 28, 35, 42, 49, 56, 63, 70],\n",
       " [8, 16, 24, 32, 40, 48, 56, 64, 72, 80],\n",
       " [9, 18, 27, 36, 45, 54, 63, 72, 81, 90]]"
      ]
     },
     "execution_count": 8,
     "metadata": {},
     "output_type": "execute_result"
    }
   ],
   "source": [
    "lista"
   ]
  },
  {
   "cell_type": "markdown",
   "id": "3a5d51be",
   "metadata": {},
   "source": [
    "premessa: dizionari + concetto che tutto è un oggetto."
   ]
  },
  {
   "cell_type": "code",
   "execution_count": 9,
   "id": "426ee7a2",
   "metadata": {},
   "outputs": [],
   "source": [
    "def somma(a, b):\n",
    "    return a + b\n",
    "\n",
    "def moltiplicazione(a, b):\n",
    "    return a * b"
   ]
  },
  {
   "cell_type": "code",
   "execution_count": 10,
   "id": "ea81810e",
   "metadata": {},
   "outputs": [],
   "source": [
    "dizionario = {0:somma, 1:moltiplicazione}"
   ]
  },
  {
   "cell_type": "code",
   "execution_count": 11,
   "id": "cc602577",
   "metadata": {},
   "outputs": [
    {
     "data": {
      "text/plain": [
       "7"
      ]
     },
     "execution_count": 11,
     "metadata": {},
     "output_type": "execute_result"
    }
   ],
   "source": [
    "dizionario[0](3,4)"
   ]
  },
  {
   "cell_type": "code",
   "execution_count": 12,
   "id": "de61cb81",
   "metadata": {},
   "outputs": [
    {
     "data": {
      "text/plain": [
       "24"
      ]
     },
     "execution_count": 12,
     "metadata": {},
     "output_type": "execute_result"
    }
   ],
   "source": [
    "dizionario[1](4,6)"
   ]
  },
  {
   "cell_type": "markdown",
   "id": "cf73dee3",
   "metadata": {},
   "source": [
    "PAGINA 73 NUMERO 3 Scrivi un programma che permette di effettuare le 4 operazioni aritmetiche.\n",
    "\n",
    "Quale operazione vuole\n",
    "\n",
    "0: somma 1: sott 2: moltiplicazione 3: divisione\n",
    "\n",
    "L'utente passa i numeri"
   ]
  },
  {
   "cell_type": "code",
   "execution_count": 13,
   "id": "95c5928d",
   "metadata": {},
   "outputs": [],
   "source": [
    "operazione = 1\n",
    "n1 = 8\n",
    "n2 = 4"
   ]
  },
  {
   "cell_type": "code",
   "execution_count": 14,
   "id": "3d3e29b1",
   "metadata": {},
   "outputs": [],
   "source": [
    "def somma(a, b):\n",
    "    return a + b"
   ]
  },
  {
   "cell_type": "code",
   "execution_count": 15,
   "id": "37975e72",
   "metadata": {},
   "outputs": [],
   "source": [
    "def moltiplicazione(a, b):\n",
    "    return a * b"
   ]
  },
  {
   "cell_type": "code",
   "execution_count": 16,
   "id": "bbf2d048",
   "metadata": {},
   "outputs": [],
   "source": [
    "def sottrazione(a, b):\n",
    "    return a-b"
   ]
  },
  {
   "cell_type": "code",
   "execution_count": 17,
   "id": "b5c404e7",
   "metadata": {},
   "outputs": [],
   "source": [
    "def divisione(a,b):\n",
    "    return a/b"
   ]
  },
  {
   "cell_type": "code",
   "execution_count": 18,
   "id": "800ded30",
   "metadata": {},
   "outputs": [],
   "source": [
    "diz = {0:somma, 1:sottrazione, 2:moltiplicazione, 3:divisione}"
   ]
  },
  {
   "cell_type": "code",
   "execution_count": 19,
   "id": "1c5706f9",
   "metadata": {},
   "outputs": [
    {
     "data": {
      "text/plain": [
       "4"
      ]
     },
     "execution_count": 19,
     "metadata": {},
     "output_type": "execute_result"
    }
   ],
   "source": [
    "diz[operazione](n1,n2)"
   ]
  },
  {
   "cell_type": "code",
   "execution_count": null,
   "id": "63fcc4b8",
   "metadata": {},
   "outputs": [],
   "source": []
  }
 ],
 "metadata": {
  "kernelspec": {
   "display_name": "Python 3 (ipykernel)",
   "language": "python",
   "name": "python3"
  },
  "language_info": {
   "codemirror_mode": {
    "name": "ipython",
    "version": 3
   },
   "file_extension": ".py",
   "mimetype": "text/x-python",
   "name": "python",
   "nbconvert_exporter": "python",
   "pygments_lexer": "ipython3",
   "version": "3.9.12"
  }
 },
 "nbformat": 4,
 "nbformat_minor": 5
}
