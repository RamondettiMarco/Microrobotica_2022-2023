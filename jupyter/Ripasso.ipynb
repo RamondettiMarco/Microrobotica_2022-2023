{
 "cells": [
  {
   "cell_type": "code",
   "execution_count": 1,
   "id": "3975d901",
   "metadata": {},
   "outputs": [],
   "source": [
    "l = [1, 2, \"ciao\", 5.0]"
   ]
  },
  {
   "cell_type": "code",
   "execution_count": 2,
   "id": "368102eb",
   "metadata": {},
   "outputs": [
    {
     "data": {
      "text/plain": [
       "[2, 'ciao', 5.0]"
      ]
     },
     "execution_count": 2,
     "metadata": {},
     "output_type": "execute_result"
    }
   ],
   "source": [
    "l[1:] #Slicing"
   ]
  },
  {
   "cell_type": "code",
   "execution_count": 3,
   "id": "a5a7d920",
   "metadata": {},
   "outputs": [
    {
     "data": {
      "text/plain": [
       "5.0"
      ]
     },
     "execution_count": 3,
     "metadata": {},
     "output_type": "execute_result"
    }
   ],
   "source": [
    "l[-1]"
   ]
  },
  {
   "cell_type": "code",
   "execution_count": 4,
   "id": "2939c581",
   "metadata": {},
   "outputs": [
    {
     "name": "stdout",
     "output_type": "stream",
     "text": [
      "1\n",
      "2\n",
      "ciao\n",
      "5.0\n"
     ]
    }
   ],
   "source": [
    "for x in l:\n",
    "    print(x)"
   ]
  },
  {
   "cell_type": "markdown",
   "id": "9e80a7d0",
   "metadata": {},
   "source": [
    "ciclo for sulla posizione e sull'elemento"
   ]
  },
  {
   "cell_type": "code",
   "execution_count": 6,
   "id": "4e89f9c5",
   "metadata": {},
   "outputs": [
    {
     "name": "stdout",
     "output_type": "stream",
     "text": [
      "Indice 0: 1\n",
      "Indice 1: 2\n",
      "Indice 2: ciao\n",
      "Indice 3: 5.0\n"
     ]
    }
   ],
   "source": [
    "for i,elemento in enumerate(l):\n",
    "    print(f\"Indice {i}: {elemento}\")"
   ]
  },
  {
   "cell_type": "code",
   "execution_count": 7,
   "id": "5535c3bd",
   "metadata": {},
   "outputs": [],
   "source": [
    "l2 = [5, 6, 7, 8]"
   ]
  },
  {
   "cell_type": "code",
   "execution_count": 9,
   "id": "30f61915",
   "metadata": {},
   "outputs": [
    {
     "name": "stdout",
     "output_type": "stream",
     "text": [
      "Lista 1: 1 \n",
      "Lista 2: 5\n",
      "Lista 1: 2 \n",
      "Lista 2: 6\n",
      "Lista 1: ciao \n",
      "Lista 2: 7\n",
      "Lista 1: 5.0 \n",
      "Lista 2: 8\n"
     ]
    }
   ],
   "source": [
    "for elemento, elemento2 in zip(l, l2):\n",
    "    print(f\"Lista 1: {elemento} \\nLista 2: {elemento2}\")"
   ]
  },
  {
   "cell_type": "code",
   "execution_count": 10,
   "id": "b4b505a1",
   "metadata": {},
   "outputs": [],
   "source": [
    "a, b = 1, 2 #assegnazione multipla, posso anche assegnare il valore a più elementi"
   ]
  },
  {
   "cell_type": "code",
   "execution_count": 11,
   "id": "8bcbf49f",
   "metadata": {},
   "outputs": [
    {
     "name": "stdout",
     "output_type": "stream",
     "text": [
      "1 2\n"
     ]
    }
   ],
   "source": [
    "print(a, b)"
   ]
  },
  {
   "cell_type": "code",
   "execution_count": 16,
   "id": "13e1c228",
   "metadata": {},
   "outputs": [],
   "source": [
    "a,b = b,a #scambia i valori"
   ]
  },
  {
   "cell_type": "code",
   "execution_count": 17,
   "id": "fff4dee0",
   "metadata": {},
   "outputs": [
    {
     "data": {
      "text/plain": [
       "2"
      ]
     },
     "execution_count": 17,
     "metadata": {},
     "output_type": "execute_result"
    }
   ],
   "source": [
    "a"
   ]
  },
  {
   "cell_type": "code",
   "execution_count": 18,
   "id": "8e5a143f",
   "metadata": {},
   "outputs": [],
   "source": [
    "def somma(x, y=1): #y è un parametro di default, quando richiamo la funzione posso non metterlo\n",
    "    return x+y"
   ]
  },
  {
   "cell_type": "code",
   "execution_count": 19,
   "id": "3e5dfbd5",
   "metadata": {},
   "outputs": [
    {
     "name": "stdout",
     "output_type": "stream",
     "text": [
      "6\n"
     ]
    }
   ],
   "source": [
    "print(somma(5))"
   ]
  },
  {
   "cell_type": "code",
   "execution_count": 20,
   "id": "a0472959",
   "metadata": {},
   "outputs": [
    {
     "name": "stdout",
     "output_type": "stream",
     "text": [
      "11\n"
     ]
    }
   ],
   "source": [
    "print(somma(5,6))"
   ]
  },
  {
   "cell_type": "code",
   "execution_count": 23,
   "id": "adb371a8",
   "metadata": {},
   "outputs": [],
   "source": [
    "def somma_e_prodotto(x, y=1): #ritorno due valori\n",
    "    return x+y,x*y"
   ]
  },
  {
   "cell_type": "code",
   "execution_count": 24,
   "id": "c862de25",
   "metadata": {},
   "outputs": [
    {
     "name": "stdout",
     "output_type": "stream",
     "text": [
      "(8, 15)\n"
     ]
    }
   ],
   "source": [
    "print(somma_e_prodotto(5,3)) #ritorna una tupla"
   ]
  },
  {
   "cell_type": "code",
   "execution_count": 27,
   "id": "4e9d4bea",
   "metadata": {},
   "outputs": [],
   "source": [
    "_, p = somma_e_prodotto(5,3) # \"_\" serve se in una funzione che ritorna più valori quello a cui assegno l'underscore \n",
    "                             #non ci interessa, in questo caso la somma"
   ]
  },
  {
   "cell_type": "code",
   "execution_count": 28,
   "id": "08f7558f",
   "metadata": {},
   "outputs": [
    {
     "data": {
      "text/plain": [
       "15"
      ]
     },
     "execution_count": 28,
     "metadata": {},
     "output_type": "execute_result"
    }
   ],
   "source": [
    "p"
   ]
  },
  {
   "cell_type": "code",
   "execution_count": 30,
   "id": "e6fe44d9",
   "metadata": {},
   "outputs": [
    {
     "name": "stdout",
     "output_type": "stream",
     "text": [
      "<function somma_e_prodotto at 0x7f17dfadb5e0>\n"
     ]
    }
   ],
   "source": [
    "print(somma_e_prodotto) #puntatore alla cella di memoria della funzione"
   ]
  },
  {
   "cell_type": "code",
   "execution_count": null,
   "id": "238f841e",
   "metadata": {},
   "outputs": [],
   "source": []
  }
 ],
 "metadata": {
  "kernelspec": {
   "display_name": "Python 3 (ipykernel)",
   "language": "python",
   "name": "python3"
  },
  "language_info": {
   "codemirror_mode": {
    "name": "ipython",
    "version": 3
   },
   "file_extension": ".py",
   "mimetype": "text/x-python",
   "name": "python",
   "nbconvert_exporter": "python",
   "pygments_lexer": "ipython3",
   "version": "3.9.12"
  }
 },
 "nbformat": 4,
 "nbformat_minor": 5
}
