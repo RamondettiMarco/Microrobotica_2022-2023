{
 "cells": [
  {
   "cell_type": "markdown",
   "id": "f7aaf2b2",
   "metadata": {},
   "source": [
    "### Esercizio 21 pagina 73\n",
    "Utilizza le list comprehension per creare una funziona che rimuova tutte le vocali presenti in una stringa"
   ]
  },
  {
   "cell_type": "code",
   "execution_count": 13,
   "id": "0c6629b6",
   "metadata": {},
   "outputs": [],
   "source": [
    "lista_vocali = ['a', 'e', 'i', 'o', 'u']"
   ]
  },
  {
   "cell_type": "code",
   "execution_count": 14,
   "id": "ca8cf366",
   "metadata": {},
   "outputs": [],
   "source": [
    "stringa = \"qwertyuiopasdfghjklzxcvbnm\""
   ]
  },
  {
   "cell_type": "code",
   "execution_count": 15,
   "id": "81e69a1f",
   "metadata": {},
   "outputs": [],
   "source": [
    "def consonante(i): #non necessario\n",
    "    if i in lista_vocali:\n",
    "        return False\n",
    "    else:\n",
    "        return True"
   ]
  },
  {
   "cell_type": "code",
   "execution_count": 16,
   "id": "bd0ec05b",
   "metadata": {},
   "outputs": [],
   "source": [
    "lista = [lettera for lettera in stringa if lettera not in lista_vocali]"
   ]
  },
  {
   "cell_type": "code",
   "execution_count": 17,
   "id": "f26341d2",
   "metadata": {},
   "outputs": [
    {
     "data": {
      "text/plain": [
       "['q',\n",
       " 'w',\n",
       " 'r',\n",
       " 't',\n",
       " 'y',\n",
       " 'p',\n",
       " 's',\n",
       " 'd',\n",
       " 'f',\n",
       " 'g',\n",
       " 'h',\n",
       " 'j',\n",
       " 'k',\n",
       " 'l',\n",
       " 'z',\n",
       " 'x',\n",
       " 'c',\n",
       " 'v',\n",
       " 'b',\n",
       " 'n',\n",
       " 'm']"
      ]
     },
     "execution_count": 17,
     "metadata": {},
     "output_type": "execute_result"
    }
   ],
   "source": [
    "lista"
   ]
  },
  {
   "cell_type": "code",
   "execution_count": 18,
   "id": "6789d47c",
   "metadata": {},
   "outputs": [
    {
     "data": {
      "text/plain": [
       "'qwrtypsdfghjklzxcvbnm'"
      ]
     },
     "execution_count": 18,
     "metadata": {},
     "output_type": "execute_result"
    }
   ],
   "source": [
    "\"\".join(lista) #concatena la lista in una stringa, e \"\" sono il carattere separatore, in questo caso vuoto"
   ]
  },
  {
   "cell_type": "code",
   "execution_count": null,
   "id": "2c0e5994",
   "metadata": {},
   "outputs": [],
   "source": []
  }
 ],
 "metadata": {
  "kernelspec": {
   "display_name": "Python 3 (ipykernel)",
   "language": "python",
   "name": "python3"
  },
  "language_info": {
   "codemirror_mode": {
    "name": "ipython",
    "version": 3
   },
   "file_extension": ".py",
   "mimetype": "text/x-python",
   "name": "python",
   "nbconvert_exporter": "python",
   "pygments_lexer": "ipython3",
   "version": "3.9.12"
  }
 },
 "nbformat": 4,
 "nbformat_minor": 5
}
